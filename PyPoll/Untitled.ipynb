{
 "cells": [
  {
   "cell_type": "code",
   "execution_count": null,
   "metadata": {},
   "outputs": [],
   "source": [
    "from collections import Counter\n",
    "\n",
    "candidates = {'Khan': 2218231, 'Correy': 704200, 'Li': 492940, \"O'Tooley\": 105630}\n",
    "\n",
    "\n",
    "totalVotes = [sum([v]) for k,v in candidates.items()]\n",
    "print(f\"totalVotes: {totalVotes}\")\n",
    "votes = Counter(candidates)\n",
    "\n",
    "print(f\"votes sum: {sum(votes)}\")\n",
    "print('Khan votes', votes['Khan'])\n",
    "print(votes)\n",
    "for k, v in votes.items():\n",
    "    print(f\"k,v: {k}: {v}\")\n"
   ]
  }
 ],
 "metadata": {
  "kernelspec": {
   "display_name": "Python 3",
   "language": "python",
   "name": "python3"
  },
  "language_info": {
   "codemirror_mode": {
    "name": "ipython",
    "version": 3
   },
   "file_extension": ".py",
   "mimetype": "text/x-python",
   "name": "python",
   "nbconvert_exporter": "python",
   "pygments_lexer": "ipython3",
   "version": "3.7.1"
  }
 },
 "nbformat": 4,
 "nbformat_minor": 2
}
