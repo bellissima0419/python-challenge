{
 "cells": [
  {
   "cell_type": "code",
   "execution_count": 2,
   "metadata": {},
   "outputs": [],
   "source": [
    "import csv\n",
    "import os"
   ]
  },
  {
   "cell_type": "code",
   "execution_count": 3,
   "metadata": {},
   "outputs": [],
   "source": [
    "csvpath = os.path.join('../', 'budget_data.csv')"
   ]
  },
  {
   "cell_type": "code",
   "execution_count": null,
   "metadata": {},
   "outputs": [],
   "source": [
    "profit_loss = []\n",
    "pl_difference = []\n",
    "profits = []\n",
    "losses = []\n",
    "p_count = 0\n",
    "l_count = 0\n",
    "balance = 0\n",
    "months = []\n",
    "csv_list = []"
   ]
  },
  {
   "cell_type": "code",
   "execution_count": null,
   "metadata": {},
   "outputs": [],
   "source": [
    "with open(csvpath, newline='') as csvfile:\n",
    "\n",
    "  csvreader = csv.reader(csvfile, delimiter=',')\n",
    "  csv_header = next(csvfile)\n",
    "\n",
    "  # csv_list.append(list(csvreader))\n",
    "  print(f\"Header: {csv_header}\")\n",
    "\n",
    "  for row in csvreader:\n",
    "    profit_loss.append(int(row[1]))\n",
    "    # difference.append(row[1])\n",
    "    balance += int(row[1])\n",
    "\n",
    "    months.append(row[0].split(\"-\"))\n",
    "    if int(row[1]) > 0:\n",
    "     profits.append(int(row[1]))\n",
    "    else:\n",
    "      losses.append(int(row[1]))"
   ]
  },
  {
   "cell_type": "code",
   "execution_count": null,
   "metadata": {},
   "outputs": [],
   "source": [
    "for i in range(len(profit_loss)-1):\n",
    "  pl_difference.append(profit_loss[i+1] - profit_loss[i])\n",
    "\n",
    "print()\n",
    "\n",
    "pl_sum = 0\n",
    "for i in range(len(pl_difference)):\n",
    "  pl_sum += pl_difference[i]\n",
    "\n",
    "print(f\"pl_sum: {pl_sum}\")\n",
    "print(f\"len( pl_difference ) {len(pl_difference)}\")\n",
    "print(f\"avg: {sum(pl_difference)/len(pl_difference)}\" )\n",
    "\n",
    "print(f\"max pl_difference: {max(pl_difference)}\")\n",
    "print(f\"min pl_difference: {min(pl_difference)}\")\n",
    "\n",
    "print(\"Financial Analysis\")\n",
    "print(\"--------------------------\")\n",
    "\n",
    "\n",
    "\n",
    "\n",
    "\n",
    "\n",
    "\n",
    "print(\"--------------------\")\n",
    "\n",
    "\n",
    "print(\"--------------------\")"
   ]
  }
 ],
 "metadata": {
  "kernelspec": {
   "display_name": "Python 3",
   "language": "python",
   "name": "python3"
  },
  "language_info": {
   "codemirror_mode": {
    "name": "ipython",
    "version": 3
   },
   "file_extension": ".py",
   "mimetype": "text/x-python",
   "name": "python",
   "nbconvert_exporter": "python",
   "pygments_lexer": "ipython3",
   "version": "3.7.1"
  }
 },
 "nbformat": 4,
 "nbformat_minor": 2
}
